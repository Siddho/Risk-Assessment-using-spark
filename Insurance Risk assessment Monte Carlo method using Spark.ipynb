{
 "cells": [
  {
   "cell_type": "code",
   "execution_count": 2,
   "id": "57a09805",
   "metadata": {},
   "outputs": [],
   "source": [
    "import random   \n",
    "N = 1000000 #Total number of points generated"
   ]
  },
  {
   "cell_type": "code",
   "execution_count": 3,
   "id": "7386eaf4",
   "metadata": {},
   "outputs": [
    {
     "name": "stdout",
     "output_type": "stream",
     "text": [
      "Approximate value of Pi is  3.140864\n"
     ]
    }
   ],
   "source": [
    "Points_incircle = 0 # Number of points in the circle\n",
    "\n",
    "for i in range(N):\n",
    "  # Generate the coortidates of the point with uniform distribution within the square. \n",
    "    x= random.uniform(-0.5, 0.5)\n",
    "    y= random.uniform(-0.5, 0.5)\n",
    "  \n",
    "    # Checking if we've hit the circle (hint: use Pythagorean Theorem)\n",
    "    if (x**2 + y**2)<= 0.25:\n",
    "        Points_incircle+= 1 # Bingo! We did it!c\n",
    "  \n",
    "    # Estimating value of pi,\n",
    "    pi = 4* Points_incircle/N\n",
    "\n",
    "  \n",
    "print(\"Approximate value of Pi is \", pi)    "
   ]
  },
  {
   "cell_type": "code",
   "execution_count": 4,
   "id": "2ac5a3cb",
   "metadata": {
    "scrolled": true
   },
   "outputs": [
    {
     "name": "stdout",
     "output_type": "stream",
     "text": [
      "\n",
      "Note: you may need to restart the kernel to use updated packages.\n"
     ]
    },
    {
     "name": "stderr",
     "output_type": "stream",
     "text": [
      "\n",
      "EnvironmentLocationNotFound: Not a conda environment: D:\\Anaconda\n",
      "\n"
     ]
    }
   ],
   "source": [
    "conda install pyspark"
   ]
  },
  {
   "cell_type": "code",
   "execution_count": null,
   "id": "dfc4be6b",
   "metadata": {},
   "outputs": [],
   "source": [
    "try:\n",
    "    from pyspark import SparkContext, SparkConfc\n",
    "    from pyspark.sql import SparkSession\n",
    "except ImportError as e:\n",
    "    printmd('<<<<<!!!!! Please restart your kernel after installing Apache Spark !!!!!>>>>>')"
   ]
  },
  {
   "cell_type": "code",
   "execution_count": null,
   "id": "79a58b74",
   "metadata": {},
   "outputs": [],
   "source": [
    "sc = SparkContext.getOrCreate(SparkConf().setMaster(\"local[*]\"))\n",
    "\n",
    "spark = SparkSession \\\n",
    "    .builder \\c\n",
    "    .getOrCreate()"
   ]
  },
  {
   "cell_type": "code",
   "execution_count": null,
   "id": "16397c09",
   "metadata": {},
   "outputs": [],
   "source": [
    "INITIAL_CAPITAL = 10  \n",
    "MAXTIME = 10          \n",
    "INCOME_INTENSITY = 1  \n",
    "CLAIM_INTENSITY = 1   \n",
    "CLAIM_MEAN = 1        \n",
    "TRAJEC_NUM = 1000     "
   ]
  },
  {
   "cell_type": "code",
   "execution_count": null,
   "id": "6d360648",
   "metadata": {},
   "outputs": [],
   "source": [
    "import random\n",
    "import time\n",
    "from operator import add\n",
    "\n",
    "def bankrupcy(seed):\n",
    "    random.seed(seed)\n",
    "    capital = INITIAL_CAPITAL\n",
    "    time = 0\n",
    "    while (time < MAXTIME)and(capital>=0):\n",
    "      time_step=random.expovariate(CLAIM_INTENSITY)\n",
    "      time+=time_step\n",
    "      capital += INCOME_INTENSITY * time_step - random.expovariate(1/CLAIM_MEAN)\n",
    "    if (capital<0):\n",
    "      return 1 \n",
    "    else: \n",
    "      return 0"
   ]
  },
  {
   "cell_type": "code",
   "execution_count": null,
   "id": "b559169d",
   "metadata": {},
   "outputs": [],
   "source": [
    "ruin_probability =sc.parallelize([time.time() + i for i in range(TRAJEC_NUM)]).map(bankrupcy).reduce(add)/TRAJEC_NUM\n",
    "print(\"Our company will bunkrupt with\", ruin_probability, \"probability\")"
   ]
  }
 ],
 "metadata": {
  "kernelspec": {
   "display_name": "Python 3 (ipykernel)",
   "language": "python",
   "name": "python3"
  },
  "language_info": {
   "codemirror_mode": {
    "name": "ipython",
    "version": 3
   },
   "file_extension": ".py",
   "mimetype": "text/x-python",
   "name": "python",
   "nbconvert_exporter": "python",
   "pygments_lexer": "ipython3",
   "version": "3.10.9"
  }
 },
 "nbformat": 4,
 "nbformat_minor": 5
}
